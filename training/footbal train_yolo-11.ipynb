{
 "cells": [
  {
   "cell_type": "code",
   "execution_count": 1,
   "id": "b27cbbed",
   "metadata": {},
   "outputs": [
    {
     "name": "stdout",
     "output_type": "stream",
     "text": [
      "Collecting roboflow\n",
      "  Downloading roboflow-1.1.64-py3-none-any.whl.metadata (9.7 kB)\n",
      "Requirement already satisfied: certifi in d:\\studies\\research\\football-analysis-live\\.venv\\lib\\site-packages (from roboflow) (2025.4.26)\n",
      "Collecting idna==3.7 (from roboflow)\n",
      "  Downloading idna-3.7-py3-none-any.whl.metadata (9.9 kB)\n",
      "Requirement already satisfied: cycler in d:\\studies\\research\\football-analysis-live\\.venv\\lib\\site-packages (from roboflow) (0.12.1)\n",
      "Requirement already satisfied: kiwisolver>=1.3.1 in d:\\studies\\research\\football-analysis-live\\.venv\\lib\\site-packages (from roboflow) (1.4.8)\n",
      "Requirement already satisfied: matplotlib in d:\\studies\\research\\football-analysis-live\\.venv\\lib\\site-packages (from roboflow) (3.10.3)\n",
      "Requirement already satisfied: numpy>=1.18.5 in d:\\studies\\research\\football-analysis-live\\.venv\\lib\\site-packages (from roboflow) (2.2.5)\n",
      "Collecting opencv-python-headless==4.10.0.84 (from roboflow)\n",
      "  Downloading opencv_python_headless-4.10.0.84-cp37-abi3-win_amd64.whl.metadata (20 kB)\n",
      "Requirement already satisfied: Pillow>=7.1.2 in d:\\studies\\research\\football-analysis-live\\.venv\\lib\\site-packages (from roboflow) (11.2.1)\n",
      "Collecting pillow-heif>=0.18.0 (from roboflow)\n",
      "  Downloading pillow_heif-0.22.0-cp313-cp313-win_amd64.whl.metadata (9.8 kB)\n",
      "Requirement already satisfied: python-dateutil in d:\\studies\\research\\football-analysis-live\\.venv\\lib\\site-packages (from roboflow) (2.9.0.post0)\n",
      "Collecting python-dotenv (from roboflow)\n",
      "  Downloading python_dotenv-1.1.0-py3-none-any.whl.metadata (24 kB)\n",
      "Requirement already satisfied: requests in d:\\studies\\research\\football-analysis-live\\.venv\\lib\\site-packages (from roboflow) (2.32.3)\n",
      "Requirement already satisfied: six in d:\\studies\\research\\football-analysis-live\\.venv\\lib\\site-packages (from roboflow) (1.17.0)\n",
      "Requirement already satisfied: urllib3>=1.26.6 in d:\\studies\\research\\football-analysis-live\\.venv\\lib\\site-packages (from roboflow) (2.4.0)\n",
      "Requirement already satisfied: tqdm>=4.41.0 in d:\\studies\\research\\football-analysis-live\\.venv\\lib\\site-packages (from roboflow) (4.67.1)\n",
      "Requirement already satisfied: PyYAML>=5.3.1 in d:\\studies\\research\\football-analysis-live\\.venv\\lib\\site-packages (from roboflow) (6.0.2)\n",
      "Collecting requests-toolbelt (from roboflow)\n",
      "  Downloading requests_toolbelt-1.0.0-py2.py3-none-any.whl.metadata (14 kB)\n",
      "Collecting filetype (from roboflow)\n",
      "  Downloading filetype-1.2.0-py2.py3-none-any.whl.metadata (6.5 kB)\n",
      "Requirement already satisfied: colorama in d:\\studies\\research\\football-analysis-live\\.venv\\lib\\site-packages (from tqdm>=4.41.0->roboflow) (0.4.6)\n",
      "Requirement already satisfied: contourpy>=1.0.1 in d:\\studies\\research\\football-analysis-live\\.venv\\lib\\site-packages (from matplotlib->roboflow) (1.3.2)\n",
      "Requirement already satisfied: fonttools>=4.22.0 in d:\\studies\\research\\football-analysis-live\\.venv\\lib\\site-packages (from matplotlib->roboflow) (4.58.0)\n",
      "Requirement already satisfied: packaging>=20.0 in d:\\studies\\research\\football-analysis-live\\.venv\\lib\\site-packages (from matplotlib->roboflow) (25.0)\n",
      "Requirement already satisfied: pyparsing>=2.3.1 in d:\\studies\\research\\football-analysis-live\\.venv\\lib\\site-packages (from matplotlib->roboflow) (3.2.3)\n",
      "Requirement already satisfied: charset-normalizer<4,>=2 in d:\\studies\\research\\football-analysis-live\\.venv\\lib\\site-packages (from requests->roboflow) (3.4.2)\n",
      "Downloading roboflow-1.1.64-py3-none-any.whl (85 kB)\n",
      "Downloading idna-3.7-py3-none-any.whl (66 kB)\n",
      "Downloading opencv_python_headless-4.10.0.84-cp37-abi3-win_amd64.whl (38.8 MB)\n",
      "   ---------------------------------------- 0.0/38.8 MB ? eta -:--:--\n",
      "   ---- ----------------------------------- 3.9/38.8 MB 19.1 MB/s eta 0:00:02\n",
      "   ------ --------------------------------- 6.6/38.8 MB 15.9 MB/s eta 0:00:03\n",
      "   --------- ------------------------------ 9.2/38.8 MB 14.9 MB/s eta 0:00:02\n",
      "   ------------ --------------------------- 11.8/38.8 MB 14.4 MB/s eta 0:00:02\n",
      "   -------------- ------------------------- 14.4/38.8 MB 14.1 MB/s eta 0:00:02\n",
      "   ----------------- ---------------------- 17.0/38.8 MB 13.9 MB/s eta 0:00:02\n",
      "   -------------------- ------------------- 19.9/38.8 MB 13.8 MB/s eta 0:00:02\n",
      "   ----------------------- ---------------- 22.5/38.8 MB 13.7 MB/s eta 0:00:02\n",
      "   ------------------------- -------------- 25.2/38.8 MB 13.6 MB/s eta 0:00:01\n",
      "   ---------------------------- ----------- 27.8/38.8 MB 13.5 MB/s eta 0:00:01\n",
      "   ------------------------------- -------- 30.4/38.8 MB 13.5 MB/s eta 0:00:01\n",
      "   ---------------------------------- ----- 33.0/38.8 MB 13.4 MB/s eta 0:00:01\n",
      "   ------------------------------------ --- 35.7/38.8 MB 13.4 MB/s eta 0:00:01\n",
      "   ---------------------------------------  38.3/38.8 MB 13.4 MB/s eta 0:00:01\n",
      "   ---------------------------------------- 38.8/38.8 MB 13.0 MB/s eta 0:00:00\n",
      "Downloading pillow_heif-0.22.0-cp313-cp313-win_amd64.whl (8.6 MB)\n",
      "   ---------------------------------------- 0.0/8.6 MB ? eta -:--:--\n",
      "   ---- ----------------------------------- 1.0/8.6 MB 86.1 MB/s eta 0:00:01\n",
      "   --------------- ------------------------ 3.4/8.6 MB 7.8 MB/s eta 0:00:01\n",
      "   ---------------------------- ----------- 6.0/8.6 MB 9.5 MB/s eta 0:00:01\n",
      "   ---------------------------------------  8.4/8.6 MB 10.1 MB/s eta 0:00:01\n",
      "   ---------------------------------------- 8.6/8.6 MB 9.9 MB/s eta 0:00:00\n",
      "Downloading filetype-1.2.0-py2.py3-none-any.whl (19 kB)\n",
      "Downloading python_dotenv-1.1.0-py3-none-any.whl (20 kB)\n",
      "Downloading requests_toolbelt-1.0.0-py2.py3-none-any.whl (54 kB)\n",
      "Installing collected packages: filetype, python-dotenv, pillow-heif, opencv-python-headless, idna, requests-toolbelt, roboflow\n",
      "\n",
      "   ---------------------------------------- 0/7 [filetype]\n",
      "   ----- ---------------------------------- 1/7 [python-dotenv]\n",
      "   ----------- ---------------------------- 2/7 [pillow-heif]\n",
      "   ----------- ---------------------------- 2/7 [pillow-heif]\n",
      "   ----------------- ---------------------- 3/7 [opencv-python-headless]\n",
      "   ----------------- ---------------------- 3/7 [opencv-python-headless]\n",
      "   ----------------- ---------------------- 3/7 [opencv-python-headless]\n",
      "   ----------------- ---------------------- 3/7 [opencv-python-headless]\n",
      "   ----------------- ---------------------- 3/7 [opencv-python-headless]\n",
      "  Attempting uninstall: idna\n",
      "   ----------------- ---------------------- 3/7 [opencv-python-headless]\n",
      "   ---------------------- ----------------- 4/7 [idna]\n",
      "    Found existing installation: idna 3.10\n",
      "   ---------------------- ----------------- 4/7 [idna]\n",
      "    Uninstalling idna-3.10:\n",
      "   ---------------------- ----------------- 4/7 [idna]\n",
      "      Successfully uninstalled idna-3.10\n",
      "   ---------------------- ----------------- 4/7 [idna]\n",
      "   ---------------------- ----------------- 4/7 [idna]\n",
      "   ---------------------------- ----------- 5/7 [requests-toolbelt]\n",
      "   ---------------------------- ----------- 5/7 [requests-toolbelt]\n",
      "   ---------------------------- ----------- 5/7 [requests-toolbelt]\n",
      "   ---------------------------------- ----- 6/7 [roboflow]\n",
      "   ---------------------------------- ----- 6/7 [roboflow]\n",
      "   ---------------------------------- ----- 6/7 [roboflow]\n",
      "   ---------------------------------- ----- 6/7 [roboflow]\n",
      "   ---------------------------------------- 7/7 [roboflow]\n",
      "\n",
      "Successfully installed filetype-1.2.0 idna-3.7 opencv-python-headless-4.10.0.84 pillow-heif-0.22.0 python-dotenv-1.1.0 requests-toolbelt-1.0.0 roboflow-1.1.64\n",
      "Note: you may need to restart the kernel to use updated packages.\n"
     ]
    }
   ],
   "source": [
    "%pip install roboflow"
   ]
  },
  {
   "cell_type": "code",
   "execution_count": 2,
   "id": "9a02c563",
   "metadata": {},
   "outputs": [
    {
     "name": "stdout",
     "output_type": "stream",
     "text": [
      "loading Roboflow workspace...\n",
      "loading Roboflow project...\n"
     ]
    },
    {
     "name": "stderr",
     "output_type": "stream",
     "text": [
      "Downloading Dataset Version Zip in football-players-detection-1 to yolov11:: 100%|██████████| 147802/147802 [00:14<00:00, 10496.29it/s]"
     ]
    },
    {
     "name": "stdout",
     "output_type": "stream",
     "text": [
      "\n"
     ]
    },
    {
     "name": "stderr",
     "output_type": "stream",
     "text": [
      "\n",
      "Extracting Dataset Version Zip to football-players-detection-1 in yolov11:: 100%|██████████| 1338/1338 [00:01<00:00, 931.39it/s] \n"
     ]
    }
   ],
   "source": [
    "from roboflow import Roboflow\n",
    "rf = Roboflow(api_key=\"3xjo32f3XmrzVaTexluW\")\n",
    "project = rf.workspace(\"roboflow-jvuqo\").project(\"football-players-detection-3zvbc\")\n",
    "version = project.version(1)\n",
    "dataset = version.download(\"yolov11\")\n",
    "                "
   ]
  },
  {
   "cell_type": "code",
   "execution_count": 3,
   "id": "b8c534ac",
   "metadata": {},
   "outputs": [
    {
     "data": {
      "text/plain": [
       "'d:\\\\Studies\\\\Research\\\\Football-Analysis-Live\\\\training\\\\football-players-detection-1'"
      ]
     },
     "execution_count": 3,
     "metadata": {},
     "output_type": "execute_result"
    }
   ],
   "source": [
    "dataset.location"
   ]
  },
  {
   "cell_type": "code",
   "execution_count": 4,
   "id": "6e9b59bc",
   "metadata": {},
   "outputs": [],
   "source": [
    "import shutil"
   ]
  },
  {
   "cell_type": "code",
   "execution_count": 5,
   "id": "29e2c954",
   "metadata": {},
   "outputs": [
    {
     "data": {
      "text/plain": [
       "'football-players-detection-1/football-players-detection-1/valid'"
      ]
     },
     "execution_count": 5,
     "metadata": {},
     "output_type": "execute_result"
    }
   ],
   "source": [
    "shutil.move('football-players-detection-1/train', \n",
    "            'football-players-detection-1/football-players-detection-1/train')\n",
    "shutil.move('football-players-detection-1/test', \n",
    "            'football-players-detection-1/football-players-detection-1/test')\n",
    "shutil.move('football-players-detection-1/valid', \n",
    "            'football-players-detection-1/football-players-detection-1/valid')"
   ]
  },
  {
   "cell_type": "code",
   "execution_count": null,
   "id": "2dbd8675",
   "metadata": {},
   "outputs": [],
   "source": [
    "!yolo task=detect mode=train model=yolo11x.pt data={dataset.location}/data.yaml epochs=100 imgsz=640"
   ]
  },
  {
   "cell_type": "code",
   "execution_count": null,
   "id": "1021f1a4",
   "metadata": {},
   "outputs": [],
   "source": []
  }
 ],
 "metadata": {
  "kernelspec": {
   "display_name": ".venv",
   "language": "python",
   "name": "python3"
  },
  "language_info": {
   "codemirror_mode": {
    "name": "ipython",
    "version": 3
   },
   "file_extension": ".py",
   "mimetype": "text/x-python",
   "name": "python",
   "nbconvert_exporter": "python",
   "pygments_lexer": "ipython3",
   "version": "3.13.3"
  }
 },
 "nbformat": 4,
 "nbformat_minor": 5
}
